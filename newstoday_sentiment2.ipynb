{
  "nbformat": 4,
  "nbformat_minor": 0,
  "metadata": {
    "colab": {
      "name": "newstoday_sentiment2.ipynb",
      "provenance": [],
      "collapsed_sections": [],
      "authorship_tag": "ABX9TyPEtZFhpL3tr7evYQcGNN8Q",
      "include_colab_link": true
    },
    "kernelspec": {
      "name": "python3",
      "display_name": "Python 3"
    }
  },
  "cells": [
    {
      "cell_type": "markdown",
      "metadata": {
        "id": "view-in-github",
        "colab_type": "text"
      },
      "source": [
        "<a href=\"https://colab.research.google.com/github/maxkleiner/maXbox4/blob/master/newstoday_sentiment2.ipynb\" target=\"_parent\"><img src=\"https://colab.research.google.com/assets/colab-badge.svg\" alt=\"Open In Colab\"/></a>"
      ]
    },
    {
      "cell_type": "markdown",
      "metadata": {
        "id": "qEvhqINtLNLo"
      },
      "source": [
        "# Do you want to read the news today?"
      ]
    },
    {
      "cell_type": "code",
      "metadata": {
        "colab": {
          "base_uri": "https://localhost:8080/"
        },
        "id": "Ek6bFVbeKlGt",
        "outputId": "28b12bcd-2c40-4401-fc01-6ade6e67fdef"
      },
      "source": [
        "import nltk                                                \r\n",
        "from nltk.sentiment.vader import SentimentIntensityAnalyzer\r\n",
        "#import wget                                  \r\n",
        "import sys                                   \r\n",
        "nltk.download(\"vader_lexicon\") \r\n",
        "!pip install feedparser             \r\n",
        "import feedparser                            \r\n",
        "import pandas as pd \r\n",
        "pd.set_option('display.width',500) \r\n",
        "pd.set_option('max_colwidth', 800)                        \r\n",
        "import numpy as np                           \r\n",
        "print(\"This first line after Imports\")       \r\n",
        "                                             \r\n",
        "                                             \r\n",
        "def GraphViz(node):                                           \r\n",
        "    d = Graph(node)                                           \r\n",
        "                                                              \r\n",
        "    from graphviz import Digraph                              \r\n",
        "    dot = Digraph(\"Graph\", strict=False)                      \r\n",
        "    dot.format = \"png\"                                        \r\n",
        "                                                              \r\n",
        "    def rec(nodes, parent):                                   \r\n",
        "        for d in nodes:                                       \r\n",
        "            if not isinstance(d, dict):                       \r\n",
        "                dot.node(d, shape=d._graphvizshape)           \r\n",
        "                dot.edge(d, parent)                           \r\n",
        "            else:                                             \r\n",
        "                for k in d:                                   \r\n",
        "                    dot.node(k._name, shape=k._graphvizshape) \r\n",
        "                    rec(d[k], k)                              \r\n",
        "                    dot.edge(k._name, parent._name)           \r\n",
        "    for k in d:                                               \r\n",
        "        dot.node(k._name, shape=k._graphvizshape)             \r\n",
        "        rec(d[k], k)                                          \r\n",
        "    return dot                                                \r\n",
        "                                                              \r\n",
        "                                                              \r\n",
        "news_feed=feedparser.parse(\"http://feeds.bbci.co.uk/news/world/rss.xml\")\r\n",
        "sid = SentimentIntensityAnalyzer()                                   \r\n",
        "descriptions=[\"very negative\",\"negative\",\"slightly negative\", \\\r\n",
        "         \"neutral\",\"slightly positive\", \"positive\",\"very positive\"]  \r\n",
        "num_descriptions = len(descriptions)                                 \r\n",
        "frontpage = pd.DataFrame()\r\n",
        "print(frontpage.info())                                           \r\n",
        "output_path = sys.argv[1]                                            \r\n",
        "                                                                     \r\n",
        "def compound_polarity_descript(compound):                            \r\n",
        "   return descriptions[int(((1 + compound) / 2) * num_descriptions)] \r\n",
        "                                                                     \r\n",
        "#wget.download(url, out=destination) #, useragent= \"maXbox\")         \r\n",
        "for entry in news_feed.entries:                                      \r\n",
        "    ss = sid.polarity_scores(entry.title + \"\\n\" + entry.summary)     \r\n",
        "    series = pd.Series(                                              \r\n",
        "     [                                                               \r\n",
        "        ss[\"neg\"],                                                   \r\n",
        "        ss[\"neu\"],                                                   \r\n",
        "        ss[\"pos\"],                                                   \r\n",
        "        ss[\"compound\"],                                              \r\n",
        "        compound_polarity_descript(ss[\"compound\"]),                  \r\n",
        "        entry.title,                                                 \r\n",
        "        entry.summary                                                \r\n",
        "      ],                                                             \r\n",
        "      index=[                                                        \r\n",
        "        \"neg\",                                                       \r\n",
        "        \"neu\",                                                       \r\n",
        "        \"pos\",                                                       \r\n",
        "        \"compound\",                                                  \r\n",
        "        \"human\",                                                     \r\n",
        "        \"title\",                                                     \r\n",
        "# print(eachItem[\"name\"],\" : \", eachItem[\"percentage_probability\"])  \r\n",
        "        \"summary\"                                                    \r\n",
        "      ])                                                             \r\n",
        "    frontpage=pd.concat([frontpage,series.to_frame().T],ignore_index=True)\r\n",
        "\r\n",
        "print(frontpage.info())                                                                        \r\n",
        "alist=[]                                                             \r\n",
        "for count,entry in enumerate(news_feed.entries):                     \r\n",
        "   alist.append(str(count)+\": \"+entry.title)                         \r\n",
        "                                                                     \r\n",
        "finallist = \"\\n\".join(alist)                                         \r\n",
        "with open(output_path, \"w\") as file:                                 \r\n",
        "     file.write(str(finallist))                                      \r\n",
        "print(finallist)                                                                     \r\n",
        "compound_frontpage = frontpage[\"compound\"].mean(skipna = True)       \r\n",
        "print(\"\\n\")                                                          \r\n",
        "print(frontpage)     \r\n",
        "print(\"\\n\")                                                 \r\n",
        "print(\"Overall News today Recommender: \"+compound_polarity_descript(compound_frontpage)) \r\n",
        "print(\"\\n\") \r\n",
        "print(\"integrate newsfeed sentiment detector compute ends...\")"
      ],
      "execution_count": 1,
      "outputs": [
        {
          "output_type": "stream",
          "text": [
            "/usr/local/lib/python3.6/dist-packages/nltk/twitter/__init__.py:20: UserWarning: The twython library has not been installed. Some functionality from the twitter package will not be available.\n",
            "  warnings.warn(\"The twython library has not been installed. \"\n"
          ],
          "name": "stderr"
        },
        {
          "output_type": "stream",
          "text": [
            "[nltk_data] Downloading package vader_lexicon to /root/nltk_data...\n",
            "Collecting feedparser\n",
            "\u001b[?25l  Downloading https://files.pythonhosted.org/packages/1c/21/faf1bac028662cc8adb2b5ef7a6f3999a765baa2835331df365289b0ca56/feedparser-6.0.2-py3-none-any.whl (80kB)\n",
            "\u001b[K     |████████████████████████████████| 81kB 3.4MB/s \n",
            "\u001b[?25hCollecting sgmllib3k\n",
            "  Downloading https://files.pythonhosted.org/packages/9e/bd/3704a8c3e0942d711c1299ebf7b9091930adae6675d7c8f476a7ce48653c/sgmllib3k-1.0.0.tar.gz\n",
            "Building wheels for collected packages: sgmllib3k\n",
            "  Building wheel for sgmllib3k (setup.py) ... \u001b[?25l\u001b[?25hdone\n",
            "  Created wheel for sgmllib3k: filename=sgmllib3k-1.0.0-cp36-none-any.whl size=6066 sha256=66e2f54d0d45252764367085a4527a60fd8634833b8f7b6940560e4d2e350c8f\n",
            "  Stored in directory: /root/.cache/pip/wheels/f1/80/5a/444ba08a550cdd241bd9baf8bae44be750efe370adb944506a\n",
            "Successfully built sgmllib3k\n",
            "Installing collected packages: sgmllib3k, feedparser\n",
            "Successfully installed feedparser-6.0.2 sgmllib3k-1.0.0\n",
            "This first line after Imports\n",
            "<class 'pandas.core.frame.DataFrame'>\n",
            "Index: 0 entries\n",
            "Empty DataFrameNone\n",
            "<class 'pandas.core.frame.DataFrame'>\n",
            "RangeIndex: 22 entries, 0 to 21\n",
            "Data columns (total 7 columns):\n",
            " #   Column    Non-Null Count  Dtype \n",
            "---  ------    --------------  ----- \n",
            " 0   neg       22 non-null     object\n",
            " 1   neu       22 non-null     object\n",
            " 2   pos       22 non-null     object\n",
            " 3   compound  22 non-null     object\n",
            " 4   human     22 non-null     object\n",
            " 5   title     22 non-null     object\n",
            " 6   summary   22 non-null     object\n",
            "dtypes: object(7)\n",
            "memory usage: 1.3+ KB\n",
            "None\n",
            "0: Dutch Rutte government resigns over child welfare fraud scandal\n",
            "1: Young, black and more likely to die in Brazil\n",
            "2: Indonesia earthquake: Sulawesi hospital among collapsed buildings\n",
            "3: North Korea unveils new submarine-launched missile\n",
            "4: Nazi Buchenwald camp no place for sledging, authorities warn\n",
            "5: NYC bendy bus left drooping from overpass in Bronx\n",
            "6: Joe Biden unveils $1.9tn US economic relief package\n",
            "7: Taliban cracks down on 'costly' polygamy\n",
            "8: Uganda elections 2021: Museveni takes early lead as Bobi Wine cries foul\n",
            "9: Biden Twitter account 'starts from zero' with no Trump followers\n",
            "10: German sports doctor jailed over blood doping scandal\n",
            "11: China’s pressure and propaganda - the reality of reporting Xinjiang\n",
            "12: Colourising historical photos of the civil rights movement\n",
            "13: Rajini Chandy: The 69-year-old Indian actress trolled for ‘too sexy’ photos\n",
            "14: Villarejo: The rise and fall of the Spanish state's secret fixer\n",
            "15: German chancellor race: The men vying for Merkel's job\n",
            "16: Uganda social media ban raises questions over regulation in Africa\n",
            "17: North Korea: Kim Jong-un oversees huge military showcase\n",
            "18: Johan 'N0tail' Sundstein: Inside the world's richest e-sports player's mansion\n",
            "19: Rap against Dictatorship: The rappers taking on Thailand's leaders\n",
            "20: Electric eel: An Amazon predator that 'zaps' prey\n",
            "21: Australia: Spectacular ‘tree of life’ found in lake\n",
            "\n",
            "\n",
            "      neg  ...                                                                                                                                summary\n",
            "0   0.488  ...                                    Mark Rutte's cabinet resigns after families were wrongly accused and many faced financial problems.\n",
            "1   0.347  ...                                                  A BBC investigation uncovers who is most at risk of lethal police violence in Brazil.\n",
            "2   0.307  ...                                       Dozens are thought to be killed and hundreds injured in an earthquake on the island of Sulawesi.\n",
            "3       0  ...                                         The show of military strength comes days before the inauguration of Joe Biden as US president.\n",
            "4   0.234  ...                                                   German officials say some people have used Buchenwald mass graves as a toboggan run.\n",
            "5   0.112  ...                                     Several people are hurt as a bus plunges from an overpass in the Bronx on to an access road below.\n",
            "6   0.142  ...                                         The US president-elect says the nationwide vaccine rollout so far has been \"a dismal failure\".\n",
            "7       0  ...                              The group's leader in Afghanistan says the practice is \"inviting criticism\". It's also proving expensive.\n",
            "8   0.097  ...                                     President Museveni's rival alleges the internet shutdown allows for rigging in the election count.\n",
            "9   0.173  ...                                  Joe Biden's presidential Twitter account launches with no followers transferred from President Trump.\n",
            "10  0.291  ...                                      Mark Schmidt masterminded an international doping ring exposed by police in \"Operation Aderlass\".\n",
            "11   0.16  ...                                    In addition to heavy restrictions on journalists in the Xinjiang region, China alleges “fake news”.\n",
            "12      0  ...                            Jordan J Lloyd has added digital colour to black-and-white photos of Dr King and the civil rights movement.\n",
            "13      0  ...                              Rajini Chandy, a southern Indian actress, has raised hackles in a state where women still dress modestly.\n",
            "14      0  ...                                                     An undercover policeman now facing trial amassed a hoard of Spanish state secrets.\n",
            "15      0  ...                                          Three candidates are challenging to lead Angela Merkel's CDU, but the race may not end there.\n",
            "16  0.219  ...                                          There will be increasing tension between the platforms and African governments, analysts say.\n",
            "17      0  ...                              Planes, missiles and marching troops are on show as North Korean state media broadcasts a massive parade.\n",
            "18      0  ...                                                    Johan \"N0tail\" Sundstein has earned more than $7.4m (£5.4m) in prize money to date.\n",
            "19      0  ...                             Thai group Rap Against Dictatorship is known for its outspoken comments against the military and monarchy,\n",
            "20   0.08  ...  Researchers working in the Amazon filmed eels gathering in packs to herd prey, then stunning them with a synchronised electric shock.\n",
            "21      0  ...                                  An amateur photographer’s aerial photos are gaining attention for this little known \"natural wonder\".\n",
            "\n",
            "[22 rows x 7 columns]\n",
            "\n",
            "\n",
            "Overall News today Recommender: slightly negative\n",
            "\n",
            "\n",
            "integrate newsfeed sentiment detector compute ends...\n"
          ],
          "name": "stdout"
        }
      ]
    },
    {
      "cell_type": "code",
      "metadata": {
        "id": "zvlk18SEAroV"
      },
      "source": [
        ""
      ],
      "execution_count": null,
      "outputs": []
    },
    {
      "cell_type": "markdown",
      "metadata": {
        "id": "UV-mWzDSNf6n"
      },
      "source": [
        "Examples:\r\n",
        "0: FBI fears armed protests by Trump supporters ahead of Biden inauguration\r\n",
        "1: Firms scrap political donations over Capitol riots\r\n",
        "2: Capitol police officer Eugene Goodman hailed as 'a hero'\r\n",
        "3: Sriwijaya Air crash: Plane passed inspection last month\r\n",
        "4: Stammering: 'I thought it made me a failure'"
      ]
    },
    {
      "cell_type": "markdown",
      "metadata": {
        "id": "425KqAdFNdWb"
      },
      "source": [
        "     neg  ...                                            summary\r\n",
        "0   0.224  ...  Law enforcement officials warn of plans to hol...\r\n",
        "1   0.194  ...  Many companies say they won't donate to Senato...\r\n",
        "2   0.169  ...  Footage of the riot shows Mr Goodman lure a mo...\r\n",
        "3   0.105  ...  Officials said the plane was deemed airworthy ...\r\n",
        "4   0.298  ...  Joe Biden will be the first known president wi..."
      ]
    }
  ]
}