{
  "nbformat": 4,
  "nbformat_minor": 0,
  "metadata": {
    "colab": {
      "name": "MNISTSinglePredict.ipynb",
      "provenance": [],
      "collapsed_sections": [],
      "authorship_tag": "ABX9TyNol9DwD5D7pX+I28u1LjJW",
      "include_colab_link": true
    },
    "kernelspec": {
      "name": "python3",
      "display_name": "Python 3"
    }
  },
  "cells": [
    {
      "cell_type": "markdown",
      "metadata": {
        "id": "view-in-github",
        "colab_type": "text"
      },
      "source": [
        "<a href=\"https://colab.research.google.com/github/maxkleiner/maXbox4/blob/master/MNISTSinglePredict.ipynb\" target=\"_parent\"><img src=\"https://colab.research.google.com/assets/colab-badge.svg\" alt=\"Open In Colab\"/></a>"
      ]
    },
    {
      "cell_type": "markdown",
      "metadata": {
        "id": "_LG1bU4qhq7b"
      },
      "source": [
        "# MNIST Single Prediction\r\n",
        "We have set up a very simple SVC to classify the MNIST digits to make one single predict.\r\n",
        "First we load the libraries and the dataset:"
      ]
    },
    {
      "cell_type": "code",
      "metadata": {
        "colab": {
          "base_uri": "https://localhost:8080/"
        },
        "id": "FfMRkbuMgvqn",
        "outputId": "3bb93c82-5dfe-4196-ce34-f52f8556243c"
      },
      "source": [
        "#sign:max: MAXBOX8: 13/03/2021 07:46:37 \r\n",
        "import numpy as np\r\n",
        "import matplotlib.pyplot as plt\r\n",
        "from sklearn import tree\r\n",
        "from sklearn.ensemble import RandomForestClassifier\r\n",
        "from sklearn.svm import SVC\r\n",
        "from sklearn import datasets\r\n",
        "from sklearn.metrics import accuracy_score\r\n",
        "\r\n",
        "# [height, weight, 8*8 pixels of digits 0..9]\r\n",
        "dimages = datasets.load_digits()\r\n",
        "print(type(dimages), len(dimages.data), 'samples')\r\n"
      ],
      "execution_count": 44,
      "outputs": [
        {
          "output_type": "stream",
          "text": [
            "<class 'sklearn.utils.Bunch'> 1797 samples\n"
          ],
          "name": "stdout"
        }
      ]
    },
    {
      "cell_type": "markdown",
      "metadata": {
        "id": "ubq_cnq1j5bA"
      },
      "source": [
        "Then we setup the Support Vector Classifier with the training data X and the target y:"
      ]
    },
    {
      "cell_type": "code",
      "metadata": {
        "colab": {
          "base_uri": "https://localhost:8080/"
        },
        "id": "0ZjIuWF-kYGE",
        "outputId": "e8c5df0c-c37e-4442-bec5-5e98b3a8ec23"
      },
      "source": [
        "sclf = SVC(gamma=0.001, C=100, kernel='linear')\r\n",
        "\r\n",
        "X= dimages.data[:-10]\r\n",
        "y= dimages.target[:-10]\r\n",
        "print('train set samples:',len(X))\r\n"
      ],
      "execution_count": 45,
      "outputs": [
        {
          "output_type": "stream",
          "text": [
            "train set samples: 1787\n"
          ],
          "name": "stdout"
        }
      ]
    },
    {
      "cell_type": "markdown",
      "metadata": {
        "id": "JCKdhimKmKAC"
      },
      "source": [
        "Gamma is the learning rate and the higher the value of gamma the more precise the decision boundary would be. C (regularization) is the penalty of the fault tolerance. Having a larger C will lead to smaller values for the slack variables. This means that the number of support vectors will decrease. When you run the prediction, it will need to calculate the indicator function for each support vector. Now we train (fit) the samples:"
      ]
    },
    {
      "cell_type": "code",
      "metadata": {
        "colab": {
          "base_uri": "https://localhost:8080/"
        },
        "id": "FDPXPTMImUZP",
        "outputId": "87823afc-adb7-4899-c0f8-02c90ec3707a"
      },
      "source": [
        "sclf.fit(X,y)"
      ],
      "execution_count": 46,
      "outputs": [
        {
          "output_type": "execute_result",
          "data": {
            "text/plain": [
              "SVC(C=100, break_ties=False, cache_size=200, class_weight=None, coef0=0.0,\n",
              "    decision_function_shape='ovr', degree=3, gamma=0.001, kernel='linear',\n",
              "    max_iter=-1, probability=False, random_state=None, shrinking=True,\n",
              "    tol=0.001, verbose=False)"
            ]
          },
          "metadata": {
            "tags": []
          },
          "execution_count": 46
        }
      ]
    },
    {
      "cell_type": "markdown",
      "metadata": {
        "id": "pzClaWdknfhO"
      },
      "source": [
        "In the last step we predict a specific digit from the test set (only the last 10 samples are unseen), means we pass an actual image and SVC makes the prediction of which digit belongs to the image:"
      ]
    },
    {
      "cell_type": "code",
      "metadata": {
        "colab": {
          "base_uri": "https://localhost:8080/",
          "height": 283
        },
        "id": "YAcgQEaPoMjZ",
        "outputId": "b792f16a-7bdf-4ed8-9108-0210ea899b51"
      },
      "source": [
        "testimage = -6\r\n",
        "\r\n",
        "s_prediction = sclf.predict([dimages.data[testimage]])\r\n",
        "print ('the image maybe belongs to ',s_prediction)\r\n",
        "plt.imshow(dimages.images[testimage], cmap=plt.cm.gray_r, interpolation=\"nearest\")\r\n",
        "plt.show()"
      ],
      "execution_count": 47,
      "outputs": [
        {
          "output_type": "stream",
          "text": [
            "the image maybe belongs to  [4]\n"
          ],
          "name": "stdout"
        },
        {
          "output_type": "display_data",
          "data": {
            "image/png": "[encoded data removed]",
            "text/plain": [
              "<Figure size 432x288 with 1 Axes>"
            ]
          },
          "metadata": {
            "tags": [],
            "needs_background": "light"
          }
        }
      ]
    },
    {
      "cell_type": "markdown",
      "metadata": {
        "id": "KMmWhujWo4oN"
      },
      "source": [
        "The same fit we try with a Random Forest Classifier to finish this lesson:"
      ]
    },
    {
      "cell_type": "code",
      "metadata": {
        "colab": {
          "base_uri": "https://localhost:8080/"
        },
        "id": "K4JftkPNpCqE",
        "outputId": "38c8e25d-bc53-4a45-9a14-49d809078bd9"
      },
      "source": [
        "#RandomForestClassifier\r\n",
        "rfc_clf = RandomForestClassifier()\r\n",
        "rfc_clf.fit(X,y)\r\n",
        "rfc_prediction = rfc_clf.predict([dimages.data[testimage]])\r\n",
        "print ('predict with RFC ',rfc_prediction)"
      ],
      "execution_count": 48,
      "outputs": [
        {
          "output_type": "stream",
          "text": [
            "predict with RFC  [4]\n"
          ],
          "name": "stdout"
        }
      ]
    }
  ]
}